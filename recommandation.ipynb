{
 "cells": [
  {
   "cell_type": "code",
   "execution_count": 14,
   "metadata": {
    "collapsed": true
   },
   "outputs": [
    {
     "data": {
      "text/plain": "   userId  activityId  rate\n0      72          31     0\n1     146          40     1\n2     131          68     4\n3      86          17     4\n4     286          59     4",
      "text/html": "<div>\n<style scoped>\n    .dataframe tbody tr th:only-of-type {\n        vertical-align: middle;\n    }\n\n    .dataframe tbody tr th {\n        vertical-align: top;\n    }\n\n    .dataframe thead th {\n        text-align: right;\n    }\n</style>\n<table border=\"1\" class=\"dataframe\">\n  <thead>\n    <tr style=\"text-align: right;\">\n      <th></th>\n      <th>userId</th>\n      <th>activityId</th>\n      <th>rate</th>\n    </tr>\n  </thead>\n  <tbody>\n    <tr>\n      <th>0</th>\n      <td>72</td>\n      <td>31</td>\n      <td>0</td>\n    </tr>\n    <tr>\n      <th>1</th>\n      <td>146</td>\n      <td>40</td>\n      <td>1</td>\n    </tr>\n    <tr>\n      <th>2</th>\n      <td>131</td>\n      <td>68</td>\n      <td>4</td>\n    </tr>\n    <tr>\n      <th>3</th>\n      <td>86</td>\n      <td>17</td>\n      <td>4</td>\n    </tr>\n    <tr>\n      <th>4</th>\n      <td>286</td>\n      <td>59</td>\n      <td>4</td>\n    </tr>\n  </tbody>\n</table>\n</div>"
     },
     "execution_count": 14,
     "metadata": {},
     "output_type": "execute_result"
    }
   ],
   "source": [
    "import pandas as pd\n",
    "from scipy.sparse.linalg import svds\n",
    "import numpy as np\n",
    "\n",
    "ratings = pd.read_csv('data/ratings.csv')\n",
    "ratings.head()"
   ]
  },
  {
   "cell_type": "code",
   "execution_count": 5,
   "outputs": [
    {
     "data": {
      "text/plain": "(300, 100)"
     },
     "execution_count": 5,
     "metadata": {},
     "output_type": "execute_result"
    }
   ],
   "source": [
    "user_item = ratings.groupby(['userId', 'activityId'])['rate'].first().unstack(fill_value=0.0)\n",
    "user_item.shape"
   ],
   "metadata": {
    "collapsed": false
   }
  },
  {
   "cell_type": "code",
   "execution_count": 6,
   "outputs": [
    {
     "data": {
      "text/plain": "(300, 100)"
     },
     "execution_count": 6,
     "metadata": {},
     "output_type": "execute_result"
    }
   ],
   "source": [
    "user_item.shape"
   ],
   "metadata": {
    "collapsed": false
   }
  },
  {
   "cell_type": "code",
   "execution_count": 7,
   "outputs": [
    {
     "data": {
      "text/plain": "<bound method NDFrame.describe of activityId  1    2    3    4    5    6    7    8    9    10   ...  91   92   \\\nuserId                                                        ...             \n1           2.0  2.0  4.0  3.0  4.0  3.0  0.0  2.0  5.0  4.0  ...  5.0  4.0   \n2           1.0  4.0  5.0  2.0  3.0  2.0  4.0  4.0  0.0  5.0  ...  1.0  4.0   \n3           0.0  2.0  1.0  0.0  3.0  4.0  2.0  1.0  2.0  0.0  ...  5.0  2.0   \n4           5.0  1.0  2.0  2.0  4.0  5.0  4.0  4.0  4.0  0.0  ...  2.0  3.0   \n5           5.0  5.0  0.0  2.0  1.0  3.0  0.0  1.0  0.0  4.0  ...  2.0  1.0   \n...         ...  ...  ...  ...  ...  ...  ...  ...  ...  ...  ...  ...  ...   \n296         3.0  1.0  4.0  5.0  4.0  0.0  0.0  2.0  3.0  2.0  ...  5.0  5.0   \n297         2.0  5.0  1.0  0.0  2.0  1.0  0.0  4.0  4.0  0.0  ...  2.0  0.0   \n298         0.0  1.0  3.0  2.0  5.0  4.0  3.0  2.0  4.0  2.0  ...  4.0  2.0   \n299         3.0  1.0  4.0  1.0  5.0  3.0  0.0  1.0  1.0  4.0  ...  2.0  0.0   \n300         1.0  4.0  4.0  2.0  2.0  2.0  1.0  1.0  0.0  1.0  ...  1.0  4.0   \n\nactivityId  93   94   95   96   97   98   99   100  \nuserId                                              \n1           3.0  4.0  0.0  4.0  5.0  4.0  3.0  3.0  \n2           4.0  5.0  3.0  1.0  0.0  3.0  5.0  1.0  \n3           5.0  2.0  5.0  0.0  2.0  1.0  2.0  1.0  \n4           4.0  4.0  5.0  2.0  4.0  1.0  0.0  5.0  \n5           1.0  3.0  4.0  5.0  4.0  1.0  2.0  3.0  \n...         ...  ...  ...  ...  ...  ...  ...  ...  \n296         0.0  3.0  2.0  0.0  2.0  2.0  5.0  1.0  \n297         0.0  1.0  5.0  3.0  0.0  0.0  0.0  5.0  \n298         0.0  1.0  0.0  1.0  0.0  2.0  4.0  3.0  \n299         4.0  2.0  0.0  4.0  4.0  2.0  2.0  2.0  \n300         1.0  1.0  0.0  4.0  1.0  2.0  1.0  1.0  \n\n[300 rows x 100 columns]>"
     },
     "execution_count": 7,
     "metadata": {},
     "output_type": "execute_result"
    }
   ],
   "source": [
    "user_item.describe"
   ],
   "metadata": {
    "collapsed": false
   }
  },
  {
   "cell_type": "code",
   "execution_count": 8,
   "outputs": [
    {
     "data": {
      "text/plain": "activityId\n29    5.0\n85    5.0\n36    5.0\n79    5.0\n91    5.0\nName: 42, dtype: float64"
     },
     "execution_count": 8,
     "metadata": {},
     "output_type": "execute_result"
    }
   ],
   "source": [
    "user_item.loc[42].sort_values(ascending=False).head()\n",
    "# Trie des valeur pour l'user_item 42"
   ],
   "metadata": {
    "collapsed": false
   }
  },
  {
   "cell_type": "code",
   "execution_count": 12,
   "outputs": [
    {
     "data": {
      "text/plain": "(300, 50)"
     },
     "execution_count": 12,
     "metadata": {},
     "output_type": "execute_result"
    }
   ],
   "source": [
    "U, sigma, Vt = svds(user_item.to_numpy(), k=50)\n",
    "#U, sigma et VT sont des matrices\n",
    "#svds décompose partiellement en valeurs singulières d'une matrice creuse.\n",
    "U.shape"
   ],
   "metadata": {
    "collapsed": false
   }
  },
  {
   "cell_type": "code",
   "execution_count": 13,
   "outputs": [
    {
     "data": {
      "text/plain": "(50, 100)"
     },
     "execution_count": 13,
     "metadata": {},
     "output_type": "execute_result"
    }
   ],
   "source": [
    "Vt.shape"
   ],
   "metadata": {
    "collapsed": false
   }
  },
  {
   "cell_type": "code",
   "execution_count": 15,
   "outputs": [],
   "source": [
    "sigma_diag_matrix=np.diag(sigma)\n",
    "# La méthode diag sert a créer / extraire une diagonale"
   ],
   "metadata": {
    "collapsed": false
   }
  },
  {
   "cell_type": "code",
   "execution_count": 16,
   "outputs": [],
   "source": [
    "all_user_predicted_ratings = np.dot(np.dot(U, sigma_diag_matrix), Vt)\n",
    "# Ici la variable all_user est un produit scalaire des matrices / diagonale, la methode dot est la pour\n",
    "preds_df = pd.DataFrame(all_user_predicted_ratings, columns = user_item.columns, index=user_item.index)\n",
    "# On crée un Dataframe"
   ],
   "metadata": {
    "collapsed": false
   }
  },
  {
   "cell_type": "code",
   "execution_count": 17,
   "outputs": [
    {
     "data": {
      "text/plain": "(300, 100)"
     },
     "execution_count": 17,
     "metadata": {},
     "output_type": "execute_result"
    }
   ],
   "source": [
    "preds_df.shape"
   ],
   "metadata": {
    "collapsed": false
   }
  },
  {
   "cell_type": "code",
   "execution_count": 35,
   "outputs": [
    {
     "data": {
      "text/plain": "activityId       1         2         3         4         5         6    \\\nuserId                                                                   \n1           1.755334  1.479483  3.276907  3.114003  4.222705  2.901777   \n2           0.168665  1.980643  3.838244  1.772846  3.247659  1.910559   \n3           0.039696  1.203199  0.793630 -1.184727  3.449504  2.994979   \n4           4.572355  1.246771  2.680501  2.889297  3.490588  4.754823   \n5           4.451593  3.837126  0.414484  3.393053  0.953870  2.224678   \n\nactivityId       7         8         9         10   ...       91        92   \\\nuserId                                              ...                       \n1           1.350925  2.882597  4.289786  4.598076  ...  2.635799  3.312325   \n2           4.331522  3.068027  0.028100  3.090986  ...  0.572777  4.128643   \n3           1.949149  1.897347  2.565578  1.087569  ...  4.406843  0.594777   \n4           3.300002  3.956127  4.588822  0.279282  ...  0.337683  3.162584   \n5          -0.057911  2.005477  0.354622  3.430439  ...  2.135538  0.636388   \n\nactivityId       93        94        95        96        97        98   \\\nuserId                                                                   \n1           3.228195  2.582283  0.448442  3.438094  3.436295  3.774701   \n2           4.930914  3.997414  2.236307  2.385088  0.500017  2.481687   \n3           4.733335  1.928929  4.638685  0.098549  2.548471  0.162239   \n4           5.567612  5.443045  5.266292  1.480316  3.274899  0.868203   \n5           1.826441  2.425360  3.868088  4.851948  3.859404  2.476079   \n\nactivityId       99        100  \nuserId                          \n1           3.363541  3.164079  \n2           4.020347  1.623153  \n3           4.139914  2.029290  \n4          -0.529539  4.469491  \n5           2.631557  3.680789  \n\n[5 rows x 100 columns]",
      "text/html": "<div>\n<style scoped>\n    .dataframe tbody tr th:only-of-type {\n        vertical-align: middle;\n    }\n\n    .dataframe tbody tr th {\n        vertical-align: top;\n    }\n\n    .dataframe thead th {\n        text-align: right;\n    }\n</style>\n<table border=\"1\" class=\"dataframe\">\n  <thead>\n    <tr style=\"text-align: right;\">\n      <th>activityId</th>\n      <th>1</th>\n      <th>2</th>\n      <th>3</th>\n      <th>4</th>\n      <th>5</th>\n      <th>6</th>\n      <th>7</th>\n      <th>8</th>\n      <th>9</th>\n      <th>10</th>\n      <th>...</th>\n      <th>91</th>\n      <th>92</th>\n      <th>93</th>\n      <th>94</th>\n      <th>95</th>\n      <th>96</th>\n      <th>97</th>\n      <th>98</th>\n      <th>99</th>\n      <th>100</th>\n    </tr>\n    <tr>\n      <th>userId</th>\n      <th></th>\n      <th></th>\n      <th></th>\n      <th></th>\n      <th></th>\n      <th></th>\n      <th></th>\n      <th></th>\n      <th></th>\n      <th></th>\n      <th></th>\n      <th></th>\n      <th></th>\n      <th></th>\n      <th></th>\n      <th></th>\n      <th></th>\n      <th></th>\n      <th></th>\n      <th></th>\n      <th></th>\n    </tr>\n  </thead>\n  <tbody>\n    <tr>\n      <th>1</th>\n      <td>1.755334</td>\n      <td>1.479483</td>\n      <td>3.276907</td>\n      <td>3.114003</td>\n      <td>4.222705</td>\n      <td>2.901777</td>\n      <td>1.350925</td>\n      <td>2.882597</td>\n      <td>4.289786</td>\n      <td>4.598076</td>\n      <td>...</td>\n      <td>2.635799</td>\n      <td>3.312325</td>\n      <td>3.228195</td>\n      <td>2.582283</td>\n      <td>0.448442</td>\n      <td>3.438094</td>\n      <td>3.436295</td>\n      <td>3.774701</td>\n      <td>3.363541</td>\n      <td>3.164079</td>\n    </tr>\n    <tr>\n      <th>2</th>\n      <td>0.168665</td>\n      <td>1.980643</td>\n      <td>3.838244</td>\n      <td>1.772846</td>\n      <td>3.247659</td>\n      <td>1.910559</td>\n      <td>4.331522</td>\n      <td>3.068027</td>\n      <td>0.028100</td>\n      <td>3.090986</td>\n      <td>...</td>\n      <td>0.572777</td>\n      <td>4.128643</td>\n      <td>4.930914</td>\n      <td>3.997414</td>\n      <td>2.236307</td>\n      <td>2.385088</td>\n      <td>0.500017</td>\n      <td>2.481687</td>\n      <td>4.020347</td>\n      <td>1.623153</td>\n    </tr>\n    <tr>\n      <th>3</th>\n      <td>0.039696</td>\n      <td>1.203199</td>\n      <td>0.793630</td>\n      <td>-1.184727</td>\n      <td>3.449504</td>\n      <td>2.994979</td>\n      <td>1.949149</td>\n      <td>1.897347</td>\n      <td>2.565578</td>\n      <td>1.087569</td>\n      <td>...</td>\n      <td>4.406843</td>\n      <td>0.594777</td>\n      <td>4.733335</td>\n      <td>1.928929</td>\n      <td>4.638685</td>\n      <td>0.098549</td>\n      <td>2.548471</td>\n      <td>0.162239</td>\n      <td>4.139914</td>\n      <td>2.029290</td>\n    </tr>\n    <tr>\n      <th>4</th>\n      <td>4.572355</td>\n      <td>1.246771</td>\n      <td>2.680501</td>\n      <td>2.889297</td>\n      <td>3.490588</td>\n      <td>4.754823</td>\n      <td>3.300002</td>\n      <td>3.956127</td>\n      <td>4.588822</td>\n      <td>0.279282</td>\n      <td>...</td>\n      <td>0.337683</td>\n      <td>3.162584</td>\n      <td>5.567612</td>\n      <td>5.443045</td>\n      <td>5.266292</td>\n      <td>1.480316</td>\n      <td>3.274899</td>\n      <td>0.868203</td>\n      <td>-0.529539</td>\n      <td>4.469491</td>\n    </tr>\n    <tr>\n      <th>5</th>\n      <td>4.451593</td>\n      <td>3.837126</td>\n      <td>0.414484</td>\n      <td>3.393053</td>\n      <td>0.953870</td>\n      <td>2.224678</td>\n      <td>-0.057911</td>\n      <td>2.005477</td>\n      <td>0.354622</td>\n      <td>3.430439</td>\n      <td>...</td>\n      <td>2.135538</td>\n      <td>0.636388</td>\n      <td>1.826441</td>\n      <td>2.425360</td>\n      <td>3.868088</td>\n      <td>4.851948</td>\n      <td>3.859404</td>\n      <td>2.476079</td>\n      <td>2.631557</td>\n      <td>3.680789</td>\n    </tr>\n  </tbody>\n</table>\n<p>5 rows × 100 columns</p>\n</div>"
     },
     "execution_count": 35,
     "metadata": {},
     "output_type": "execute_result"
    }
   ],
   "source": [
    "preds_df.head()"
   ],
   "metadata": {
    "collapsed": false
   }
  },
  {
   "cell_type": "code",
   "execution_count": 37,
   "outputs": [
    {
     "data": {
      "text/plain": "activityId\n29    5.0\n85    5.0\n36    5.0\n79    5.0\n91    5.0\n27    5.0\n95    5.0\n61    5.0\n89    5.0\n17    5.0\nName: 42, dtype: float64"
     },
     "execution_count": 37,
     "metadata": {},
     "output_type": "execute_result"
    }
   ],
   "source": [
    "user_item.loc[42].sort_values(ascending=False).head(10)"
   ],
   "metadata": {
    "collapsed": false
   }
  },
  {
   "cell_type": "code",
   "execution_count": 39,
   "outputs": [],
   "source": [
    "activities_user_42 = user_item.loc[42]"
   ],
   "metadata": {
    "collapsed": false
   }
  },
  {
   "cell_type": "code",
   "execution_count": 40,
   "outputs": [],
   "source": [
    "high_rated_activities_42 = activities_user_42[activities_user_42 > 3].index"
   ],
   "metadata": {
    "collapsed": false
   }
  },
  {
   "cell_type": "code",
   "execution_count": 41,
   "outputs": [
    {
     "data": {
      "text/plain": "Int64Index([ 2,  4,  5,  7, 14, 17, 18, 19, 25, 27, 28, 29, 30, 31, 33, 36, 39,\n            46, 53, 54, 55, 61, 62, 64, 79, 82, 85, 88, 89, 91, 93, 95, 97,\n            99],\n           dtype='int64', name='activityId')"
     },
     "execution_count": 41,
     "metadata": {},
     "output_type": "execute_result"
    }
   ],
   "source": [
    "high_rated_activities_42"
   ],
   "metadata": {
    "collapsed": false
   }
  },
  {
   "cell_type": "code",
   "execution_count": 42,
   "outputs": [],
   "source": [
    "activities_recommended_for_42 = preds_df.loc[42]"
   ],
   "metadata": {
    "collapsed": false
   }
  },
  {
   "cell_type": "code",
   "execution_count": 44,
   "outputs": [],
   "source": [
    "activities_high_recommend_for_42 = activities_recommended_for_42[activities_recommended_for_42 > 3].index"
   ],
   "metadata": {
    "collapsed": false
   }
  },
  {
   "cell_type": "code",
   "execution_count": 45,
   "outputs": [
    {
     "data": {
      "text/plain": "Int64Index([ 2,  4,  5,  7, 11, 14, 17, 18, 19, 25, 27, 28, 29, 30, 31, 32, 33,\n            36, 39, 46, 50, 53, 54, 55, 56, 57, 61, 62, 64, 69, 73, 76, 77, 79,\n            81, 82, 85, 88, 89, 91, 93, 95, 96, 97, 99],\n           dtype='int64', name='activityId')"
     },
     "execution_count": 45,
     "metadata": {},
     "output_type": "execute_result"
    }
   ],
   "source": [
    "activities_high_recommend_for_42"
   ],
   "metadata": {
    "collapsed": false
   }
  },
  {
   "cell_type": "code",
   "execution_count": 46,
   "outputs": [
    {
     "data": {
      "text/plain": "{11, 32, 50, 56, 57, 69, 73, 76, 77, 81, 96}"
     },
     "execution_count": 46,
     "metadata": {},
     "output_type": "execute_result"
    }
   ],
   "source": [
    "set(activities_high_recommend_for_42) - set(high_rated_activities_42)"
   ],
   "metadata": {
    "collapsed": false
   }
  },
  {
   "cell_type": "code",
   "execution_count": 66,
   "outputs": [],
   "source": [
    "def get_high_recommended_activities(userId):\n",
    "    activities_rated_by_user = user_item.loc[userId]\n",
    "    activities_high_rated_by_user =  activities_rated_by_user[activities_rated_by_user > 3].index\n",
    "    activities_recommended_for_user = preds_df.loc[userId]\n",
    "    activities_high_recommend_for_user = activities_recommended_for_user[activities_recommended_for_user > 3].index\n",
    "    res = dict()\n",
    "    res[\"activityId\"] = set(activities_high_recommend_for_user) - set(activities_high_rated_by_user)\n",
    "    res[\"rate\"] = preds_df.loc[userId, set(activities_high_recommend_for_user) - set(activities_high_rated_by_user)]\n",
    "    print(res)\n",
    "    return res"
   ],
   "metadata": {
    "collapsed": false
   }
  }
 ],
 "metadata": {
  "kernelspec": {
   "display_name": "Python 3",
   "language": "python",
   "name": "python3"
  },
  "language_info": {
   "codemirror_mode": {
    "name": "ipython",
    "version": 2
   },
   "file_extension": ".py",
   "mimetype": "text/x-python",
   "name": "python",
   "nbconvert_exporter": "python",
   "pygments_lexer": "ipython2",
   "version": "2.7.6"
  }
 },
 "nbformat": 4,
 "nbformat_minor": 0
}
